{
 "cells": [
  {
   "cell_type": "code",
   "execution_count": 1,
   "id": "a9ccbfa2-3e69-4453-bab2-c125b8e11855",
   "metadata": {},
   "outputs": [],
   "source": [
    "from scipy import fft\n",
    "import numpy as np\n",
    "import operator\n",
    "import imageio as im\n",
    "from functools import reduce\n",
    "from itertools import repeat, starmap\n",
    "import matplotlib.pyplot as plt\n",
    "import numpy.lib.stride_tricks as strides\n",
    "import os"
   ]
  },
  {
   "cell_type": "code",
   "execution_count": 2,
   "id": "3048406d-9be1-438f-a202-2870c1458775",
   "metadata": {},
   "outputs": [],
   "source": [
    "def calculate_bounding_shape(arrays):\n",
    "    shapes = map(np.shape, arrays)\n",
    "    dimension_sizes = zip(*shapes)\n",
    "    return tuple(map(max, dimension_sizes))\n",
    "\n",
    "def pad_symmetrically_to_shape(arr, shape):\n",
    "    differences = map(lambda x: operator.sub(*x), zip(shape, arr.shape))\n",
    "    paddings = tuple(map(lambda x: (x // 2, int(np.ceil(x / 2))), differences))\n",
    "    return np.pad(arr, paddings)\n",
    "\n",
    "def pad_symmetrically_to_same_shape(arrays):\n",
    "    target_shape = calculate_bounding_shape(arrays)\n",
    "    equalize_shapes = lambda arr: pad_symmetrically_to_shape(arr, target_shape)\n",
    "    return list(map(equalize_shapes, arrays))\n",
    "\n",
    "def apply_on_freq_domain(function, *args):\n",
    "    frequencies = fft.rfftn(pad_symmetrically_to_same_shape(args))\n",
    "    return fft.fftshift(fft.irfftn(function(*frequencies)))"
   ]
  },
  {
   "cell_type": "code",
   "execution_count": 3,
   "id": "8b096650-c231-44dc-95ca-c30a6afe4a29",
   "metadata": {},
   "outputs": [],
   "source": [
    "def scale_intensities(img, new_min=0, new_max=255):\n",
    "    \"\"\"\n",
    "    Normalizes the image img to the range [new_min, new_max]. This is done by\n",
    "    applying to all pixels p a funciton f(p) = ap + b such that for img.max(),\n",
    "    f(img.max()) = new_max and for img.min(), f(img.min()) = new_min.\n",
    "    \"\"\"\n",
    "    img_min = np.min(img, axis=(0,1))\n",
    "    img_max = np.max(img, axis=(0,1))\n",
    "    a = (new_max - new_min) / (img_max - img_min)\n",
    "    b = new_min - img_min * a\n",
    "    return a * img + b\n",
    "\n",
    "def rgb_to_monochromatic(img):\n",
    "    weights = np.array([0.144, 0.299, 0.587])\n",
    "    return img @ weights\n",
    "\n",
    "def ensure_divisability(img, factor):\n",
    "    a = img.shape[0] % factor\n",
    "    rows = img if a == 0 else img[a // 2:-int(np.ceil(a / 2))]\n",
    "    b = img.shape[1] % factor\n",
    "    return rows if b == 0 else rows[:,b // 2:-int(np.ceil(b / 2))]\n",
    "\n",
    "def calculate_partitions_shape(img, n_rows, n_cols):\n",
    "    h = img.shape[0] // n_rows\n",
    "    w = img.shape[1] // n_cols\n",
    "    return (h, w) if img.ndim == 2 else (h, w, 1)\n",
    "\n",
    "def calculate_strides_shape(partitions_shape, n_rows, n_cols):\n",
    "    shape = (n_rows, n_cols) if len(partitions_shape) < 3 else (n_rows, n_cols, 3)\n",
    "    return (*shape, *partitions_shape)\n",
    "\n",
    "def calculate_partition_strides(sliding_windows, partitions_shape):\n",
    "    padding = (0, len(sliding_windows.strides) - 2)\n",
    "    weights = np.pad((partitions_shape[:2]), padding, constant_values=1)\n",
    "    return weights * sliding_windows.strides\n",
    "\n",
    "def partition_image(img, n_rows, n_cols):\n",
    "    partitions_shape = calculate_partitions_shape(img, n_rows, n_cols)\n",
    "    sliding_windows = strides.sliding_window_view(img, partitions_shape)\n",
    "    shape = calculate_strides_shape(partitions_shape, n_rows, n_cols)\n",
    "    partition_strides = calculate_partition_strides(sliding_windows, partitions_shape)\n",
    "    return strides.as_strided(sliding_windows, shape=shape, strides=partition_strides)\n",
    "\n",
    "def downsample_img(img, factor):\n",
    "    used_img = ensure_divisability(img, factor)\n",
    "    n_rows = used_img.shape[0] // factor\n",
    "    n_cols = used_img.shape[1] // factor\n",
    "    partitions = partition_image(used_img, n_rows, n_cols)\n",
    "    partitions_axis = (2,3) if img.ndim == 2 else (3, 4, 5)\n",
    "    return np.median(partitions, axis=partitions_axis).astype(img.dtype)\n",
    "\n",
    "def threshold(img, percentage):\n",
    "    return (img > np.percentile(img, 100*percentage)).astype(int)"
   ]
  },
  {
   "cell_type": "code",
   "execution_count": 4,
   "id": "cd92013a-9877-4fbe-b0f3-23b8599fa231",
   "metadata": {},
   "outputs": [],
   "source": [
    "def split_rgb_channels(img):\n",
    "    return np.squeeze(np.split(img, 3, axis=-1), axis=-1)\n",
    "\n",
    "def cross_correlate(img, filt):\n",
    "    return apply_on_freq_domain(lambda x,y: x*np.conj(y), img, filt)\n",
    "\n",
    "def convolve(img, filt):\n",
    "    return apply_on_freq_domain(np.multiply, img, filt)\n",
    "\n",
    "def generate_zero_centered_arange(size):\n",
    "    center = size // 2\n",
    "    return np.arange(size) - center\n",
    "\n",
    "def compute_2d_gaussian(x, y, sigma):\n",
    "    if sigma == 0:\n",
    "        return np.ones_like(x)\n",
    "    return 1 / (2 * np.pi * sigma2) * np.exp(x2 + y2 / (2 * sigma2))\n",
    "\n",
    "def ensure_is_odd(value):\n",
    "    return value + (1 - value % 2)\n",
    "\n",
    "def compute_optimal_gaussian_filter_size(sigma):\n",
    "    return ensure_is_odd(int(2 * sigma))\n",
    "\n",
    "def generate_gaussian_filter(sigma=1):\n",
    "    if sigma == 0:\n",
    "        return np.array([[1]])\n",
    "    filter_size = compute_optimal_gaussian_filter_size(sigma)\n",
    "    zcrange = generate_zero_centered_arange(filter_size)\n",
    "    x, y = np.meshgrid(zcrange, zcrange)\n",
    "    filt = np.exp(-(np.square(x) + np.square(y)) / (2 * np.square(sigma)))\n",
    "    return filt / np.sum(filt)\n",
    "\n",
    "from scipy.ndimage import convolve\n",
    "\n",
    "def apply_gaussian_filter(img, sigma=1):\n",
    "    gaussian = generate_gaussian_filter(sigma=sigma)\n",
    "    if img.ndim == 2:\n",
    "        return convolve(img, gaussian)\n",
    "    else:\n",
    "        result = map(lambda channel: convolve(channel, gaussian), split_rgb_channels(img))\n",
    "    return np.stack(tuple(result), axis=-1).astype(img.dtype)"
   ]
  },
  {
   "cell_type": "code",
   "execution_count": 5,
   "id": "0c19b721-dca6-462f-8ae5-dad3b063ab5a",
   "metadata": {},
   "outputs": [],
   "source": [
    "base_dir = './rotation_fixed_1/'\n",
    "image_paths = sorted(os.listdir(base_dir))[1:]\n",
    "images = [im.imread(f'{base_dir}{path}') for path in image_paths]"
   ]
  },
  {
   "cell_type": "code",
   "execution_count": 6,
   "id": "be1cb9c8-727a-4301-a740-6fc31ecd24ad",
   "metadata": {},
   "outputs": [],
   "source": [
    "used_images = list(map(lambda img: rgb_to_monochromatic(apply_gaussian_filter(downsample_img(img, 6), 3)), images))"
   ]
  },
  {
   "cell_type": "code",
   "execution_count": 8,
   "id": "b8e13418-e046-4399-b5b8-93fb53af621c",
   "metadata": {},
   "outputs": [],
   "source": [
    "thresholded = list(map(lambda img: threshold(img, 0.70), used_images))"
   ]
  },
  {
   "cell_type": "code",
   "execution_count": 9,
   "id": "2cbfde1f-1938-4fd2-a58c-8495ad95f560",
   "metadata": {},
   "outputs": [
    {
     "data": {
      "text/plain": [
       "<matplotlib.image.AxesImage at 0x7fe7b71013d0>"
      ]
     },
     "execution_count": 9,
     "metadata": {},
     "output_type": "execute_result"
    },
    {
     "data": {
      "image/png": "[encoded data removed]",
      "text/plain": [
       "<Figure size 432x288 with 1 Axes>"
      ]
     },
     "metadata": {
      "needs_background": "light"
     },
     "output_type": "display_data"
    }
   ],
   "source": [
    "plt.imshow(thresholded[0], cmap='gray')"
   ]
  },
  {
   "cell_type": "code",
   "execution_count": 20,
   "id": "c83e6581-e3ff-4762-b003-acbc47e7546a",
   "metadata": {},
   "outputs": [],
   "source": [
    "import re\n",
    "\n",
    "def find_major_grid_lines(image, axis):\n",
    "    is_line = np.sum(image, axis=1-axis) / image.shape[1 - axis] > 0.7\n",
    "    splitted_chars = np.split(is_line.astype(int).astype(str), 2)\n",
    "    joined_strs = list(map(lambda strings: ''.join(strings), splitted_chars))\n",
    "    patterns = map(lambda s: max(re.findall(r'1+', s), key=len), joined_strs)\n",
    "    idx1, idx2 = starmap(lambda p, s: s.find(p) + len(p) // 2, zip(patterns, joined_strs))\n",
    "    return (idx1, idx2 + splitted_chars[0].shape[0])"
   ]
  },
  {
   "cell_type": "code",
   "execution_count": 21,
   "id": "ecc5ba72-d3fa-4639-a6fd-3aaa0b7892d3",
   "metadata": {},
   "outputs": [],
   "source": [
    "def find_major_grid_corners(image):\n",
    "    x_u, x_d = find_major_grid_lines(image, axis=0)\n",
    "    y_l, y_r = find_major_grid_lines(image, axis=1)\n",
    "    return np.array([\n",
    "        [[x_u, y_l], [x_u, y_r]],\n",
    "        [[x_d, y_l], [x_d, y_r]]\n",
    "    ])"
   ]
  },
  {
   "cell_type": "code",
   "execution_count": 23,
   "id": "d836ed53-e231-47f2-9a1b-6b1d151525b3",
   "metadata": {},
   "outputs": [
    {
     "data": {
      "text/plain": [
       "[<matplotlib.lines.Line2D at 0x7fe7b5ea3bb0>]"
      ]
     },
     "execution_count": 23,
     "metadata": {},
     "output_type": "execute_result"
    },
    {
     "data": {
      "image/png": "[encoded data removed]",
      "text/plain": [
       "<Figure size 432x288 with 1 Axes>"
      ]
     },
     "metadata": {
      "needs_background": "light"
     },
     "output_type": "display_data"
    }
   ],
   "source": [
    "corners = np.vstack(find_major_grid_corners(thresholded[0]))\n",
    "plt.imshow(thresholded[0], cmap='gray')\n",
    "x, y = zip(*corners)\n",
    "plt.plot(y, x, color='red', marker='o', linestyle='None', markersize=5)"
   ]
  }
 ],
 "metadata": {
  "kernelspec": {
   "display_name": "Python 3",
   "language": "python",
   "name": "python3"
  },
  "language_info": {
   "codemirror_mode": {
    "name": "ipython",
    "version": 3
   },
   "file_extension": ".py",
   "mimetype": "text/x-python",
   "name": "python",
   "nbconvert_exporter": "python",
   "pygments_lexer": "ipython3",
   "version": "3.9.5"
  }
 },
 "nbformat": 4,
 "nbformat_minor": 5
}
